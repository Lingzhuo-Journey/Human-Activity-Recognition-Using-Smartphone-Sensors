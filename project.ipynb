{
 "cells": [
  {
   "cell_type": "code",
   "execution_count": 1,
   "metadata": {
    "collapsed": true,
    "deletable": true,
    "editable": true
   },
   "outputs": [],
   "source": [
    "import numpy as np\n",
    "import pandas as pd\n",
    "\n",
    "import matplotlib.pyplot as plt\n",
    "import pylab as plt\n",
    "import seaborn as sb\n",
    "from pylab import rcParams\n",
    "\n",
    "import sklearn\n",
    "from sklearn import decomposition\n",
    "from sklearn.decomposition import PCA\n",
    "from sklearn import datasets\n",
    "from sklearn.metrics import confusion_matrix as cf\n",
    "from sklearn.ensemble import RandomForestClassifier\n"
   ]
  },
  {
   "cell_type": "markdown",
   "metadata": {
    "deletable": true,
    "editable": true
   },
   "source": [
    "## Loading the training and testing data sets"
   ]
  },
  {
   "cell_type": "code",
   "execution_count": 2,
   "metadata": {
    "collapsed": true,
    "deletable": true,
    "editable": true
   },
   "outputs": [],
   "source": [
    "train_data = pd.read_csv('datasets/train.csv')\n",
    "test_data = pd.read_csv('datasets/test.csv')"
   ]
  },
  {
   "cell_type": "code",
   "execution_count": 3,
   "metadata": {
    "collapsed": false,
    "deletable": true,
    "editable": true
   },
   "outputs": [],
   "source": [
    "#print test_data.head(2)"
   ]
  },
  {
   "cell_type": "markdown",
   "metadata": {
    "deletable": true,
    "editable": true
   },
   "source": [
    "## finding if any missing values"
   ]
  },
  {
   "cell_type": "code",
   "execution_count": 4,
   "metadata": {
    "collapsed": false,
    "deletable": true,
    "editable": true
   },
   "outputs": [],
   "source": [
    "# missing = x_train.isnull().sum()\n",
    "# missing = missing[missing > 0]\n",
    "# print missing"
   ]
  },
  {
   "cell_type": "markdown",
   "metadata": {
    "deletable": true,
    "editable": true
   },
   "source": [
    "## Partitioning data to input and target variable"
   ]
  },
  {
   "cell_type": "code",
   "execution_count": 5,
   "metadata": {
    "collapsed": true,
    "deletable": true,
    "editable": true
   },
   "outputs": [],
   "source": [
    "x_train = train_data.drop('Activity', axis=1)\n",
    "\n",
    "y_train = pd.get_dummies(train_data.Activity)  # create dummies from a categorical column of a dataframe\n",
    "\n",
    "x_test = test_data.drop('Activity', axis=1)\n",
    "y_test = pd.get_dummies(test_data.Activity)"
   ]
  },
  {
   "cell_type": "markdown",
   "metadata": {
    "deletable": true,
    "editable": true
   },
   "source": [
    "# find principal components"
   ]
  },
  {
   "cell_type": "code",
   "execution_count": 14,
   "metadata": {
    "collapsed": false,
    "deletable": true,
    "editable": true
   },
   "outputs": [
    {
     "name": "stdout",
     "output_type": "stream",
     "text": [
      "[  5.95811382e-01   2.51690900e-01   2.00254599e-02   1.68323491e-02\n",
      "   7.64507036e-03   6.92268940e-03   5.18986920e-03   4.79989114e-03\n",
      "   4.34756928e-03   3.93855130e-03   3.50639860e-03   3.08577074e-03\n",
      "   2.74797604e-03   2.36688446e-03   2.21112494e-03   2.00682202e-03\n",
      "   1.92646866e-03   1.90537687e-03   1.76070929e-03   1.72259311e-03\n",
      "   1.67610296e-03   1.60212671e-03   1.51803020e-03   1.43708336e-03\n",
      "   1.38606301e-03   1.33156338e-03   1.29709553e-03   1.23081819e-03\n",
      "   1.19197400e-03   1.18209672e-03   1.15147901e-03   1.10316949e-03\n",
      "   1.07609242e-03   1.04284840e-03   9.63898745e-04   9.38851613e-04\n",
      "   9.11204516e-04   8.89253901e-04   8.51798586e-04   8.43737740e-04\n",
      "   8.36762681e-04   7.87172537e-04   7.71428556e-04   7.38380602e-04\n",
      "   7.25488740e-04   6.92881451e-04   6.54494490e-04   6.40537581e-04\n",
      "   6.39952960e-04   6.25110074e-04   6.12219515e-04   5.92858327e-04\n",
      "   5.74744194e-04   5.58388268e-04   5.18423297e-04   5.10790042e-04\n",
      "   4.89006036e-04   4.81927993e-04   4.66289404e-04   4.60528080e-04\n",
      "   4.46927999e-04   4.39533431e-04   4.27378000e-04   4.23403595e-04\n",
      "   4.13415683e-04   4.04841482e-04   3.96051297e-04   3.89848882e-04\n",
      "   3.73696264e-04   3.62746268e-04   3.55568998e-04   3.47719461e-04\n",
      "   3.38717835e-04   3.32770860e-04   3.27931706e-04   3.19374619e-04\n",
      "   3.17649067e-04   3.15380956e-04   3.03368389e-04   2.96962475e-04\n",
      "   2.95231931e-04   2.87924321e-04   2.81902575e-04   2.75192751e-04\n",
      "   2.70756048e-04   2.66554118e-04   2.65459851e-04   2.60281633e-04\n",
      "   2.57591038e-04   2.50152342e-04   2.46215345e-04   2.45293724e-04\n",
      "   2.38810677e-04   2.32763580e-04   2.27237748e-04   2.24274617e-04\n",
      "   2.20781059e-04   2.19504655e-04   2.15204071e-04   2.13671378e-04\n",
      "   2.09761491e-04   2.04312883e-04   2.00159169e-04   1.99227851e-04\n",
      "   1.94647707e-04   1.91349897e-04   1.88283632e-04   1.84628756e-04\n",
      "   1.82532854e-04   1.79872594e-04   1.77287835e-04   1.72769099e-04\n",
      "   1.71137080e-04   1.60077645e-04   1.58327224e-04   1.55093300e-04\n",
      "   1.52045212e-04   1.50535465e-04   1.47532293e-04   1.42601923e-04\n",
      "   1.38960795e-04   1.36969632e-04   1.35498714e-04   1.32931109e-04\n",
      "   1.29263432e-04   1.25954127e-04   1.24323166e-04   1.24056779e-04\n",
      "   1.21163557e-04   1.17144589e-04   1.15281048e-04   1.13712829e-04\n",
      "   1.09603046e-04   1.06707168e-04   1.05623564e-04   1.02627905e-04\n",
      "   9.99224009e-05   9.96684543e-05   9.84683483e-05   9.66103447e-05\n",
      "   9.60058513e-05   9.40774617e-05   9.20498046e-05   9.01933672e-05\n",
      "   8.84121828e-05   8.74288191e-05   8.53074565e-05   8.39876709e-05\n",
      "   8.31407929e-05   8.22866260e-05   8.07564355e-05   7.55510201e-05\n",
      "   7.54478186e-05   7.38695829e-05   7.27920571e-05   7.06837979e-05\n",
      "   6.78332311e-05   6.65001624e-05   6.59202094e-05   6.50050283e-05\n",
      "   6.30369125e-05   6.20526188e-05   6.09940151e-05   6.04208608e-05\n",
      "   5.87449577e-05   5.85202900e-05   5.75321654e-05   5.47623624e-05\n",
      "   5.45024572e-05   5.40538995e-05   5.26683388e-05   5.18323322e-05\n",
      "   5.13254603e-05   4.97504712e-05   4.86835015e-05   4.79593949e-05\n",
      "   4.76313844e-05   4.68879849e-05   4.63524747e-05   4.55970495e-05\n",
      "   4.51163862e-05   4.42492921e-05   4.40544271e-05   4.22811636e-05\n",
      "   4.16395198e-05   4.08066330e-05   4.02062589e-05   3.96448060e-05\n",
      "   3.85203583e-05   3.80767082e-05   3.70596358e-05   3.65468805e-05\n",
      "   3.59469349e-05   3.57413799e-05   3.51336607e-05   3.37590563e-05\n",
      "   3.33008361e-05   3.23538705e-05   3.19377442e-05   3.14846008e-05]\n"
     ]
    }
   ],
   "source": [
    "pca = decomposition.PCA(n_components=200)\n",
    "x_train_pca = pca.fit_transform(x_train)\n",
    "print pca.explained_variance_ratio_  # how much info is compressed into the first few components\n"
   ]
  },
  {
   "cell_type": "code",
   "execution_count": 15,
   "metadata": {
    "collapsed": false,
    "deletable": true,
    "editable": true,
    "scrolled": true
   },
   "outputs": [
    {
     "name": "stdout",
     "output_type": "stream",
     "text": [
      "0.998059713785\n"
     ]
    }
   ],
   "source": [
    "print pca.explained_variance_ratio_.sum()  # cumulative variance(figure out how many components to keep...atleast 70% keep)\n",
    "# value = 1 means 100  of dataset's info is captured the components shown that were returned(we dont want that as it contain noise, redundancy and outliers)\n"
   ]
  },
  {
   "cell_type": "code",
   "execution_count": 16,
   "metadata": {
    "collapsed": false,
    "deletable": true,
    "editable": true
   },
   "outputs": [
    {
     "data": {
      "text/plain": [
       "array([[  1.57272239e+01,  -7.24625881e+00,  -4.65589364e-01, ...,\n",
       "          2.65323137e-02,  -2.28776682e-02,   1.49733424e-01],\n",
       "       [  1.57233170e+01,  -7.26069038e+00,  -2.59002156e-01, ...,\n",
       "          1.37746933e-02,  -1.54930725e-02,   1.10567908e-02],\n",
       "       [  1.57425696e+01,  -7.20400561e+00,   1.06483367e-01, ...,\n",
       "          2.61997913e-02,  -1.53984100e-02,  -1.65840487e-02],\n",
       "       ..., \n",
       "       [ -1.19405673e+01,   7.18589795e+00,  -2.93842939e+00, ...,\n",
       "          1.36969930e-02,   5.18407739e-02,  -1.24531922e-02],\n",
       "       [ -1.19906068e+01,   6.75288146e+00,  -3.28364137e+00, ...,\n",
       "         -4.37489499e-02,  -1.21906464e-02,   5.76368228e-02],\n",
       "       [ -1.19642885e+01,   6.82458383e+00,  -2.65513553e+00, ...,\n",
       "          3.23517894e-02,   7.84069571e-02,   2.20454728e-02]])"
      ]
     },
     "execution_count": 16,
     "metadata": {},
     "output_type": "execute_result"
    }
   ],
   "source": [
    "feature_names = x_train.head(0)\n",
    "x_train_new = pca.fit(x_train).transform(x_train)\n",
    "x_train_new"
   ]
  },
  {
   "cell_type": "code",
   "execution_count": 42,
   "metadata": {
    "collapsed": false,
    "deletable": true,
    "editable": true
   },
   "outputs": [
    {
     "data": {
      "text/plain": [
       "<matplotlib.axes._subplots.AxesSubplot at 0x7f7780ddf690>"
      ]
     },
     "execution_count": 42,
     "metadata": {},
     "output_type": "execute_result"
    }
   ],
   "source": [
    "comps = pd.DataFrame(pca.components_)\n",
    "\n",
    "sb.heatmap(comps)\n"
   ]
  },
  {
   "cell_type": "code",
   "execution_count": 43,
   "metadata": {
    "collapsed": false,
    "deletable": true,
    "editable": true
   },
   "outputs": [
    {
     "data": {
      "image/png": "[encoded data removed]",
      "text/plain": [
       "<matplotlib.figure.Figure at 0x7f7786e82cd0>"
      ]
     },
     "metadata": {},
     "output_type": "display_data"
    }
   ],
   "source": [
    "plt.show()"
   ]
  },
  {
   "cell_type": "markdown",
   "metadata": {
    "deletable": true,
    "editable": true
   },
   "source": [
    "## Train Using Random Forest with 20 Trees"
   ]
  },
  {
   "cell_type": "code",
   "execution_count": 19,
   "metadata": {
    "collapsed": false,
    "deletable": true,
    "editable": true
   },
   "outputs": [
    {
     "name": "stdout",
     "output_type": "stream",
     "text": [
      "0.891075670173\n"
     ]
    }
   ],
   "source": [
    "rf = RandomForestClassifier(40)\n",
    "rf.fit(x_train, y_train)\n",
    "\n",
    "y_pred = rf.predict(x_test)\n",
    "\n",
    "cf(np.argmax(y_test.as_matrix(), axis=1), np.argmax(y_pred, axis=1))\n",
    "\n",
    "print rf.score(x_test, y_test)\n"
   ]
  },
  {
   "cell_type": "code",
   "execution_count": 20,
   "metadata": {
    "collapsed": false,
    "deletable": true,
    "editable": true
   },
   "outputs": [
    {
     "data": {
      "image/png": "[encoded data removed]",
      "text/plain": [
       "<matplotlib.figure.Figure at 0x7f7302a65a50>"
      ]
     },
     "metadata": {},
     "output_type": "display_data"
    }
   ],
   "source": [
    "\n",
    "plt.matshow(cf(np.argmax(y_test.as_matrix(), axis=1), np.argmax(y_pred, axis=1)), cmap='Reds')\n",
    "plt.colorbar()\n",
    "plt.ylabel('True label')\n",
    "plt.xlabel('Predicted label')\n",
    "plt.show()"
   ]
  },
  {
   "cell_type": "markdown",
   "metadata": {
    "deletable": true,
    "editable": true
   },
   "source": [
    "## visualizing the data"
   ]
  },
  {
   "cell_type": "code",
   "execution_count": 21,
   "metadata": {
    "collapsed": false,
    "deletable": true,
    "editable": true
   },
   "outputs": [
    {
     "data": {
      "image/png": "[encoded data removed]",
      "text/plain": [
       "<matplotlib.figure.Figure at 0x7f73028edf50>"
      ]
     },
     "metadata": {},
     "output_type": "display_data"
    }
   ],
   "source": [
    "groups = train_data.groupby('Activity')\n",
    "\n",
    "for name, group in groups:\n",
    "    plt.plot(group['tBodyAcc-mean()-Y'], group['tBodyAccMag-mean()'], '.', label=name)\n",
    "\n",
    "plt.legend(loc='best')\n",
    "plt.show()"
   ]
  },
  {
   "cell_type": "code",
   "execution_count": null,
   "metadata": {
    "collapsed": true,
    "deletable": true,
    "editable": true
   },
   "outputs": [],
   "source": []
  }
 ],
 "metadata": {
  "kernelspec": {
   "display_name": "Python 2",
   "language": "python",
   "name": "python2"
  },
  "language_info": {
   "codemirror_mode": {
    "name": "ipython",
    "version": 2
   },
   "file_extension": ".py",
   "mimetype": "text/x-python",
   "name": "python",
   "nbconvert_exporter": "python",
   "pygments_lexer": "ipython2",
   "version": "2.7.12"
  }
 },
 "nbformat": 4,
 "nbformat_minor": 2
}
