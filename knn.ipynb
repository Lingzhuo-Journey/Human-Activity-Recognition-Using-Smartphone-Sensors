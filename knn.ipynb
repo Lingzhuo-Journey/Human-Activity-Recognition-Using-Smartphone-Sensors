{
 "cells": [
  {
   "cell_type": "code",
   "execution_count": 3,
   "metadata": {
    "collapsed": false,
    "deletable": true,
    "editable": true
   },
   "outputs": [],
   "source": [
    "import numpy as np\n",
    "import pandas as pd\n",
    "import matplotlib.pyplot as plt\n",
    "import seaborn as sb\n",
    "\n",
    "from sklearn.decomposition import PCA\n",
    "from sklearn import metrics\n",
    "from sklearn.metrics import confusion_matrix as cf\n",
    "from sklearn.cross_validation import cross_val_score\n",
    "\n",
    "from sklearn.neighbors import KNeighborsClassifier\n",
    "from sklearn.ensemble import RandomForestClassifier"
   ]
  },
  {
   "cell_type": "markdown",
   "metadata": {
    "deletable": true,
    "editable": true
   },
   "source": [
    "## Partitioning data to input and target variable"
   ]
  },
  {
   "cell_type": "code",
   "execution_count": 4,
   "metadata": {
    "collapsed": true,
    "deletable": true,
    "editable": true
   },
   "outputs": [],
   "source": [
    "train_data = pd.read_csv('datasets/train.csv')\n",
    "test_data = pd.read_csv('datasets/test.csv')\n",
    "\n",
    "train_pts = train_data.drop('Activity', axis=1)\n",
    "train_labels = train_data['Activity']\n",
    "\n",
    "test_pts = test_data.drop('Activity', axis=1)\n",
    "test_labels = test_data['Activity']"
   ]
  },
  {
   "cell_type": "markdown",
   "metadata": {
    "deletable": true,
    "editable": true
   },
   "source": [
    "## Classifying after applying PCA"
   ]
  },
  {
   "cell_type": "code",
   "execution_count": 5,
   "metadata": {
    "collapsed": false,
    "deletable": true,
    "editable": true
   },
   "outputs": [
    {
     "name": "stdout",
     "output_type": "stream",
     "text": [
      "0.998059864675\n"
     ]
    }
   ],
   "source": [
    "pca = PCA(n_components=200)\n",
    "train_pca = pca.fit_transform(train_pts, y=train_labels)\n",
    "# print(pca.explained_variance_ratio_)\n",
    "test_pca = pca.transform(test_pts)\n",
    "print(pca.explained_variance_ratio_.sum())\n",
    "\n",
    "# variance = []\n",
    "# variance[0] = pca.explained_variance_raio_[0]\n",
    "# print variance[0]\n",
    "# for i in range(0,200):\n",
    "#     variance[i]\n",
    "    "
   ]
  },
  {
   "cell_type": "code",
   "execution_count": 22,
   "metadata": {
    "collapsed": false,
    "deletable": true,
    "editable": true
   },
   "outputs": [
    {
     "name": "stdout",
     "output_type": "stream",
     "text": [
      "0.812012215813\n",
      "KNeighborsClassifier(algorithm='auto', leaf_size=30, metric='minkowski',\n",
      "           metric_params=None, n_jobs=1, n_neighbors=29, p=2,\n",
      "           weights='uniform')\n"
     ]
    }
   ],
   "source": [
    "clf = KNeighborsClassifier(n_neighbors=29)\n",
    "clf.fit(train_pts, train_labels)\n",
    "scores = clf.score(test_pts, test_labels)\n",
    "print scores\n",
    "print clf"
   ]
  },
  {
   "cell_type": "code",
   "execution_count": 23,
   "metadata": {
    "collapsed": true,
    "deletable": true,
    "editable": true
   },
   "outputs": [],
   "source": [
    "def plot_confusion(classifier, test_pts, test_labels):\n",
    "    classes = ['STANDING',\n",
    "               'SITTING',\n",
    "               'LAYING',\n",
    "               'WALKING',\n",
    "               'WALKING_DOWNSTAIRS',\n",
    "               'WALKING_UPSTAIRS']\n",
    "    pred_label = classifier.predict(test_pts)\n",
    "    # print(true_label)\n",
    "    result = cf(test_labels, pred_label, labels=classes)\n",
    "    res_nor = np.ndarray((6, 6), dtype=float)\n",
    "    for i in range(0, 6):\n",
    "        s = result[i].sum()\n",
    "        for j in range(0, 6):\n",
    "            res_nor[i][j] = float(result[i][j] / s)\n",
    "    print(result)\n",
    "    print(res_nor)\n",
    "    fig = plt.figure()\n",
    "    ax = fig.add_subplot(111)\n",
    "    cax = ax.matshow(result)\n",
    "    # plt.matshow(result)\n",
    "    fig.colorbar(cax)\n",
    "    ax.set_xticklabels([''] + classes)\n",
    "    ax.set_yticklabels([''] + classes)\n",
    "    plt.xlabel(\"Predicted Label\")\n",
    "    plt.ylabel(\"True Label\")\n",
    "    plt.legend(loc='best')\n",
    "    plt.show()"
   ]
  },
  {
   "cell_type": "code",
   "execution_count": 21,
   "metadata": {
    "collapsed": false,
    "deletable": true,
    "editable": true
   },
   "outputs": [
    {
     "name": "stdout",
     "output_type": "stream",
     "text": [
      "[[480  51   0   1   0   0]\n",
      " [154 334   0   0   0   3]\n",
      " [  4  20 512   0   0   1]\n",
      " [  0   0   0 448  29  19]\n",
      " [  0   0   0  89 288  43]\n",
      " [  0   0   0 123  17 331]]\n",
      "[[ 0.  0.  0.  0.  0.  0.]\n",
      " [ 0.  0.  0.  0.  0.  0.]\n",
      " [ 0.  0.  0.  0.  0.  0.]\n",
      " [ 0.  0.  0.  0.  0.  0.]\n",
      " [ 0.  0.  0.  0.  0.  0.]\n",
      " [ 0.  0.  0.  0.  0.  0.]]\n"
     ]
    },
    {
     "data": {
      "image/png": "[encoded data removed]",
      "text/plain": [
       "<matplotlib.figure.Figure at 0x7f399e478b10>"
      ]
     },
     "metadata": {},
     "output_type": "display_data"
    }
   ],
   "source": [
    "plot_confusion(clf, test_pts, test_labels)"
   ]
  },
  {
   "cell_type": "markdown",
   "metadata": {
    "deletable": true,
    "editable": true
   },
   "source": [
    "## Random Forest Classifier"
   ]
  },
  {
   "cell_type": "code",
   "execution_count": 4,
   "metadata": {
    "collapsed": true,
    "deletable": true,
    "editable": true
   },
   "outputs": [],
   "source": [
    "import itertools\n",
    "import numpy as np\n",
    "import matplotlib.pyplot as plt\n",
    "def plot_confusion_matrix(cm, classes,\n",
    "                          normalize=False,\n",
    "                          title='Confusion matrix',\n",
    "                          cmap=plt.cm.Blues):\n",
    "    \"\"\"\n",
    "    This function prints and plots the confusion matrix.\n",
    "    Normalization can be applied by setting `normalize=True`.\n",
    "    \"\"\"\n",
    "    plt.imshow(cm, interpolation='nearest', cmap=cmap)\n",
    "    plt.title(title)\n",
    "    plt.colorbar()\n",
    "    tick_marks = np.arange(len(classes))\n",
    "    plt.xticks(tick_marks, classes, rotation=45)\n",
    "    plt.yticks(tick_marks, classes)\n",
    "\n",
    "    if normalize:\n",
    "        cm = cm.astype('float') / cm.sum(axis=1)[:, np.newaxis]\n",
    "        print(\"Normalized confusion matrix\")\n",
    "    else:\n",
    "        print('Confusion matrix, without normalization')\n",
    "\n",
    "    print(cm)\n",
    "\n",
    "    thresh = cm.max() / 2.\n",
    "    for i, j in itertools.product(range(cm.shape[0]), range(cm.shape[1])):\n",
    "        plt.text(j, i, cm[i, j],\n",
    "                 horizontalalignment=\"center\",\n",
    "                 color=\"white\" if cm[i, j] > thresh else \"black\")\n",
    "\n",
    "    plt.tight_layout()\n",
    "    plt.ylabel('True label')\n",
    "    plt.xlabel('Predicted label')\n",
    "\n"
   ]
  },
  {
   "cell_type": "code",
   "execution_count": 24,
   "metadata": {
    "collapsed": false,
    "deletable": true,
    "editable": true
   },
   "outputs": [
    {
     "name": "stdout",
     "output_type": "stream",
     "text": [
      "[0.84458771632168306, 0.88123515439429934, 0.88123515439429934, 0.88394977943671527, 0.8961655921275874, 0.90125551408211746, 0.8982015609093994, 0.89888021717000344, 0.89243298269426541, 0.90159484221241937, 0.90600610790634539, 0.90329148286392946, 0.90261282660332542, 0.89989820156090938, 0.90498812351543945, 0.90430946725483541, 0.90125551408211746, 0.90430946725483541, 0.90227349847302341, 0.90532745164574147, 0.90566677977604348, 0.90091618595181544, 0.90091618595181544, 0.90736342042755347, 0.90329148286392946, 0.90634543603664741, 0.90566677977604348, 0.90397013912453339, 0.90770274855785549]\n"
     ]
    }
   ],
   "source": [
    "from sklearn.metrics import roc_auc_score, precision_score, recall_score, accuracy_score, confusion_matrix\n",
    "from sklearn.ensemble import RandomForestClassifier\n",
    "scores = []\n",
    "for n in range(10,300,10):\n",
    "    rf = RandomForestClassifier(n_estimators=n,  n_jobs=4, min_samples_leaf=10)    \n",
    "    rf.fit(train_pca, train_labels)\n",
    "    scores.append(rf.score(test_pca,test_labels))\n",
    "\n",
    "print scores\n"
   ]
  },
  {
   "cell_type": "code",
   "execution_count": 25,
   "metadata": {
    "collapsed": false,
    "deletable": true,
    "editable": true
   },
   "outputs": [
    {
     "data": {
      "image/png": "[encoded data removed]",
      "text/plain": [
       "<matplotlib.figure.Figure at 0x7f399e597c10>"
      ]
     },
     "metadata": {},
     "output_type": "display_data"
    }
   ],
   "source": [
    "n_estim = list(range(10,300,10))\n",
    "plt.plot(n_estim, scores)\n",
    "plt.xlabel(\"n_estimators\")\n",
    "plt.ylabel(\"accuracy of random forest\")\n",
    "plt.title(\"Accuracy V/S no of estimators\")\n",
    "plt.legend(loc='best')\n",
    "plt.show()"
   ]
  },
  {
   "cell_type": "code",
   "execution_count": 26,
   "metadata": {
    "collapsed": false,
    "deletable": true,
    "editable": true
   },
   "outputs": [
    {
     "name": "stdout",
     "output_type": "stream",
     "text": [
      "[[486  46   0   0   0   0]\n",
      " [ 77 409   5   0   0   0]\n",
      " [  0   0 537   0   0   0]\n",
      " [  0   0   0 478  18   0]\n",
      " [  0   0   0  50 337  33]\n",
      " [  0   0   0  29  14 428]]\n",
      "[[ 0.  0.  0.  0.  0.  0.]\n",
      " [ 0.  0.  0.  0.  0.  0.]\n",
      " [ 0.  0.  1.  0.  0.  0.]\n",
      " [ 0.  0.  0.  0.  0.  0.]\n",
      " [ 0.  0.  0.  0.  0.  0.]\n",
      " [ 0.  0.  0.  0.  0.  0.]]\n"
     ]
    },
    {
     "data": {
      "image/png": "[encoded data removed]",
      "text/plain": [
       "<matplotlib.figure.Figure at 0x7f399f440310>"
      ]
     },
     "metadata": {},
     "output_type": "display_data"
    }
   ],
   "source": [
    "classes = ['STANDING',\n",
    "           'SITTING',\n",
    "           'LAYING',\n",
    "           'WALKING',\n",
    "           'WALKING_DOWNSTAIRS',\n",
    "           'WALKING_UPSTAIRS']\n",
    "pred_label = rf.predict(test_pca)\n",
    "# print(true_label)\n",
    "result = cf(test_labels, pred_label, labels=classes)\n",
    "res_nor = np.ndarray((6, 6), dtype=float)\n",
    "for i in range(0, 6):\n",
    "    s = result[i].sum()\n",
    "    for j in range(0, 6):\n",
    "        res_nor[i][j] = float(result[i][j] / s)\n",
    "print(result)\n",
    "print(res_nor)\n",
    "fig = plt.figure()\n",
    "ax = fig.add_subplot(111)\n",
    "cax = ax.matshow(result)\n",
    "# plt.matshow(result)\n",
    "fig.colorbar(cax)\n",
    "ax.set_xticklabels([''] + classes)\n",
    "ax.set_yticklabels([''] + classes)\n",
    "plt.xlabel(\"Predicted Label\")\n",
    "plt.ylabel(\"True Label\")\n",
    "plt.legend(loc='best')\n",
    "plt.show()"
   ]
  },
  {
   "cell_type": "code",
   "execution_count": 6,
   "metadata": {
    "collapsed": false,
    "deletable": true,
    "editable": true
   },
   "outputs": [],
   "source": [
    " k_range = list(range(1, 31,2))\n",
    "k_scores_train = []\n",
    "# k_scores_test = []\n",
    "# k_scores_cv_train = []\n",
    "for k in k_range:\n",
    "    clf = KNeighborsClassifier(n_neighbors=k)\n",
    "    clf.fit(train_pca, train_labels)\n",
    "    scores_train = clf.score(train_pca, train_labels)\n",
    "    k_scores_train.append(scores_train)\n",
    "#     scores_test = clf.score(test, test_labels)\n",
    "#     k_scores_test.append(scores_test)\n",
    "#     scores_cv_train = cross_val_score(clf, train, train_labels, cv=100, scoring='accuracy')\n",
    "#     k_scores_cv_train.append(scores_cv_train.mean())"
   ]
  },
  {
   "cell_type": "code",
   "execution_count": 7,
   "metadata": {
    "collapsed": false,
    "deletable": true,
    "editable": true
   },
   "outputs": [
    {
     "name": "stdout",
     "output_type": "stream",
     "text": [
      "[1.0, 0.99605549510337321, 0.98884657236126228, 0.98408596300326445, 0.97959738846572364, 0.97687704026115341, 0.97293253536452662, 0.97089227421109903, 0.96735582154515776, 0.96341131664853097, 0.96300326441784545, 0.96123503808487487, 0.96041893362350383, 0.95797062023939061, 0.95633841131664854]\n"
     ]
    }
   ],
   "source": [
    "print k_scores_train"
   ]
  },
  {
   "cell_type": "code",
   "execution_count": 8,
   "metadata": {
    "collapsed": false,
    "deletable": true,
    "editable": true
   },
   "outputs": [],
   "source": [
    "k_range = list(range(1, 31,2))\n",
    "k_scores_train = []\n",
    "k_scores_test = []\n",
    "k_scores_cv_train = []\n",
    "for k in k_range:\n",
    "    clf = KNeighborsClassifier(n_neighbors=k)\n",
    "    clf.fit(train_pca, train_labels)\n",
    "#     scores_train = clf.score(train_pts, train_labels)\n",
    "#     k_scores_train.append(scores_train)\n",
    "    scores_test = clf.score(test_pca, test_labels)\n",
    "    k_scores_test.append(scores_test)\n",
    "#     scores_cv_train = cross_val_score(clf, train, train_labels, cv=100, scoring='accuracy')\n",
    "#     k_scores_cv_train.append(scores_cv_train.mean())"
   ]
  },
  {
   "cell_type": "code",
   "execution_count": 9,
   "metadata": {
    "collapsed": false,
    "deletable": true,
    "editable": true
   },
   "outputs": [
    {
     "name": "stdout",
     "output_type": "stream",
     "text": [
      "[0.79776043434000676, 0.80624363759755679, 0.80997624703087889, 0.80760095011876487, 0.80794027824906689, 0.8120122158126909, 0.81235154394299292, 0.81336952833389886, 0.8140481845945029, 0.81506616898540885, 0.81167288768238888, 0.81574482524601288, 0.8160841533763149, 0.81506616898540885, 0.81336952833389886]\n"
     ]
    }
   ],
   "source": [
    "print k_scores_test"
   ]
  },
  {
   "cell_type": "code",
   "execution_count": null,
   "metadata": {
    "collapsed": true,
    "deletable": true,
    "editable": true
   },
   "outputs": [],
   "source": [
    "k_range = list(range(1, 31,2))\n",
    "# k_scores_train = []\n",
    "# k_scores_test = []\n",
    "k_scores_cv_train = []\n",
    "for k in k_range:\n",
    "    clf = KNeighborsClassifier(n_neighbors=k)\n",
    "    clf.fit(train_pts, train_labels)\n",
    "#     scores_train = clf.score(train_pts, train_labels)\n",
    "#     k_scores_train.append(scores_train)\n",
    "#     scores_test = clf.score(test_pts, test_labels)\n",
    "#     k_scores_test.append(scores_test)\n",
    "    scores_cv_train = cross_val_score(clf, train_pca, train_labels, cv=700, scoring='accuracy')\n",
    "    k_scores_cv_train.append(scores_cv_train.mean())"
   ]
  },
  {
   "cell_type": "code",
   "execution_count": null,
   "metadata": {
    "collapsed": true,
    "deletable": true,
    "editable": true
   },
   "outputs": [],
   "source": [
    "print k_scores_cv_train"
   ]
  },
  {
   "cell_type": "code",
   "execution_count": null,
   "metadata": {
    "collapsed": true
   },
   "outputs": [],
   "source": []
  }
 ],
 "metadata": {
  "kernelspec": {
   "display_name": "Python 2",
   "language": "python",
   "name": "python2"
  },
  "language_info": {
   "codemirror_mode": {
    "name": "ipython",
    "version": 2
   },
   "file_extension": ".py",
   "mimetype": "text/x-python",
   "name": "python",
   "nbconvert_exporter": "python",
   "pygments_lexer": "ipython2",
   "version": "2.7.12"
  }
 },
 "nbformat": 4,
 "nbformat_minor": 2
}
