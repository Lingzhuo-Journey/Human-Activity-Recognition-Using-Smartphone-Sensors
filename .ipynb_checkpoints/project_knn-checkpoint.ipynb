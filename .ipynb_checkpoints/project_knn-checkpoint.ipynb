{
 "cells": [
  {
   "cell_type": "code",
   "execution_count": 1,
   "metadata": {
    "collapsed": false,
    "deletable": true,
    "editable": true
   },
   "outputs": [
    {
     "name": "stderr",
     "output_type": "stream",
     "text": [
      "/usr/local/lib/python2.7/dist-packages/sklearn/cross_validation.py:44: DeprecationWarning: This module was deprecated in version 0.18 in favor of the model_selection module into which all the refactored classes and functions are moved. Also note that the interface of the new CV iterators are different from that of this module. This module will be removed in 0.20.\n",
      "  \"This module will be removed in 0.20.\", DeprecationWarning)\n"
     ]
    }
   ],
   "source": [
    "import numpy as np\n",
    "import pandas as pd\n",
    "import matplotlib.pyplot as plt\n",
    "import seaborn as sb\n",
    "\n",
    "from sklearn.decomposition import PCA\n",
    "from sklearn import metrics\n",
    "from sklearn.metrics import confusion_matrix as cf\n",
    "from sklearn.cross_validation import cross_val_score\n",
    "\n",
    "from sklearn.neighbors import KNeighborsClassifier\n",
    "from sklearn.ensemble import RandomForestClassifier"
   ]
  },
  {
   "cell_type": "markdown",
   "metadata": {
    "deletable": true,
    "editable": true
   },
   "source": [
    "## Partitioning data to input and target variable"
   ]
  },
  {
   "cell_type": "code",
   "execution_count": 2,
   "metadata": {
    "collapsed": true,
    "deletable": true,
    "editable": true
   },
   "outputs": [],
   "source": [
    "train_data = pd.read_csv('datasets/train.csv')\n",
    "test_data = pd.read_csv('datasets/test.csv')\n",
    "\n",
    "train_pts = train_data.drop('Activity', axis=1)\n",
    "train_labels = train_data['Activity']\n",
    "\n",
    "test_pts = test_data.drop('Activity', axis=1)\n",
    "test_labels = test_data['Activity']"
   ]
  },
  {
   "cell_type": "markdown",
   "metadata": {
    "deletable": true,
    "editable": true
   },
   "source": [
    "## Classifying after applying PCA"
   ]
  },
  {
   "cell_type": "code",
   "execution_count": 3,
   "metadata": {
    "collapsed": false,
    "deletable": true,
    "editable": true
   },
   "outputs": [
    {
     "name": "stdout",
     "output_type": "stream",
     "text": [
      "0.998060462198\n"
     ]
    }
   ],
   "source": [
    "pca = PCA(n_components=200)\n",
    "train_pca = pca.fit_transform(train_pts, y=train_labels)\n",
    "# print(pca.explained_variance_ratio_)\n",
    "test_pca = pca.transform(test_pts)\n",
    "print(pca.explained_variance_ratio_.sum())"
   ]
  },
  {
   "cell_type": "markdown",
   "metadata": {
    "deletable": true,
    "editable": true
   },
   "source": [
    "## Testing KNN"
   ]
  },
  {
   "cell_type": "code",
   "execution_count": 4,
   "metadata": {
    "collapsed": false,
    "deletable": true,
    "editable": true
   },
   "outputs": [
    {
     "name": "stdout",
     "output_type": "stream",
     "text": [
      "[0.79742110620970474, 0.80590430946725489, 0.80624363759755679, 0.81370885646420088, 0.80963691890057687, 0.81744146589752287, 0.80760095011876487, 0.8160841533763149, 0.80760095011876487, 0.81676280963691894, 0.81099423142178484, 0.8160841533763149, 0.81167288768238888, 0.81133355955208686, 0.81235154394299292, 0.81438751272480492, 0.81336952833389886, 0.81438751272480492, 0.81574482524601288, 0.81167288768238888, 0.81303020020359684, 0.81642348150661692, 0.81540549711571086, 0.81676280963691894, 0.81642348150661692, 0.81438751272480492, 0.81438751272480492, 0.81744146589752287, 0.8140481845945029, 0.81506616898540885]\n"
     ]
    }
   ],
   "source": [
    "k_range = list(range(1, 31))\n",
    "k_scores = []\n",
    "for k in k_range:\n",
    "    clf = KNeighborsClassifier(n_neighbors=k)\n",
    "    clf.fit(train_pca, train_labels)\n",
    "    scores = clf.score(test_pca, test_labels)\n",
    "    k_scores.append(scores)\n",
    "    # scores = cross_val_score(clf, train, train_labels, cv=10, scoring='accuracy')\n",
    "    # k_scores.append(scores.mean())\n",
    "print(k_scores)"
   ]
  },
  {
   "cell_type": "markdown",
   "metadata": {
    "deletable": true,
    "editable": true
   },
   "source": [
    "## Plotting for various k values"
   ]
  },
  {
   "cell_type": "code",
   "execution_count": 5,
   "metadata": {
    "collapsed": false,
    "deletable": true,
    "editable": true
   },
   "outputs": [
    {
     "data": {
      "image/png": "[encoded data removed]",
      "text/plain": [
       "<matplotlib.figure.Figure at 0x7f1d6df2e2d0>"
      ]
     },
     "metadata": {},
     "output_type": "display_data"
    }
   ],
   "source": [
    "plt.plot(k_range, k_scores)\n",
    "plt.xlabel('Value of K for KNN')\n",
    "plt.ylabel('KNN Accuracy')\n",
    "plt.show()"
   ]
  },
  {
   "cell_type": "markdown",
   "metadata": {
    "deletable": true,
    "editable": true
   },
   "source": [
    "## Testing KNN for training set errors"
   ]
  },
  {
   "cell_type": "code",
   "execution_count": 6,
   "metadata": {
    "collapsed": false,
    "deletable": true,
    "editable": true
   },
   "outputs": [
    {
     "name": "stdout",
     "output_type": "stream",
     "text": [
      "[1.0, 0.9936071817192601, 0.99591947769314471, 0.99238302502720344, 0.98884657236126228, 0.98789445048966262, 0.98408596300326445, 0.98299782372143629, 0.97973340587595215, 0.97782916213275295, 0.97728509249183892, 0.9767410228509249, 0.97293253536452662, 0.97470076169749731, 0.97102829162132753, 0.97116430903155604, 0.96735582154515776, 0.96762785636561477, 0.96354733405875947, 0.96477149075081614, 0.96313928182807396, 0.96259521218715993, 0.96137105549510338, 0.9619151251360174, 0.96055495103373234, 0.96041893362350383, 0.95797062023939061, 0.95783460282916211, 0.95633841131664854, 0.95593035908596302]\n"
     ]
    }
   ],
   "source": [
    "k_range = list(range(1, 31))\n",
    "k_scores = []\n",
    "for k in k_range:\n",
    "    clf = KNeighborsClassifier(n_neighbors=k)\n",
    "    clf.fit(train_pca, train_labels)\n",
    "    scores = clf.score(train_pca, train_labels)\n",
    "    k_scores.append(scores)\n",
    "    # scores = cross_val_score(clf, train, train_labels, cv=10, scoring='accuracy')\n",
    "    # k_scores.append(scores.mean())\n",
    "print(k_scores)"
   ]
  },
  {
   "cell_type": "markdown",
   "metadata": {
    "deletable": true,
    "editable": true
   },
   "source": [
    "## Plotting for various k values"
   ]
  },
  {
   "cell_type": "code",
   "execution_count": 7,
   "metadata": {
    "collapsed": false,
    "deletable": true,
    "editable": true
   },
   "outputs": [
    {
     "data": {
      "image/png": "[encoded data removed]",
      "text/plain": [
       "<matplotlib.figure.Figure at 0x7f1d6df4bf50>"
      ]
     },
     "metadata": {},
     "output_type": "display_data"
    }
   ],
   "source": [
    "plt.plot(k_range, k_scores)\n",
    "plt.xlabel('Value of K for KNN')\n",
    "plt.ylabel('KNN Accuracy')\n",
    "plt.show()"
   ]
  },
  {
   "cell_type": "markdown",
   "metadata": {
    "deletable": true,
    "editable": true
   },
   "source": [
    "## Testing KNN for cross validation data"
   ]
  },
  {
   "cell_type": "code",
   "execution_count": 10,
   "metadata": {
    "collapsed": false,
    "deletable": true,
    "editable": true
   },
   "outputs": [
    {
     "name": "stdout",
     "output_type": "stream",
     "text": [
      "[0.81977526451654814, 0.81689772177485198, 0.82631856055386943, 0.82331236826909215, 0.8301185295719874, 0.82643780889347496, 0.82890941780606564, 0.82917596883551314, 0.8295941346114134, 0.83027682351302601, 0.82893087611418426, 0.82878650303687673, 0.82539083629578358, 0.82416300194589165, 0.82321709855288927, 0.82321062650346, 0.82213216995561211, 0.8222691431316681, 0.82186172230861643, 0.82131619651582177, 0.82063796187511673, 0.8213134161017438, 0.82253682091767166, 0.82308105120966935, 0.82335557075412624, 0.82281115460845877, 0.82240039826712297, 0.82172104440485894, 0.81995527601215201, 0.81763490562182173]\n"
     ]
    }
   ],
   "source": [
    "k_range = list(range(1, 31))\n",
    "k_scores = []\n",
    "for k in k_range:\n",
    "    clf = KNeighborsClassifier(n_neighbors=k)\n",
    "    clf.fit(train_pca, train_labels)\n",
    "    scores = cross_val_score(clf, train, train_labels, cv=10, scoring='accuracy')\n",
    "    k_scores.append(scores.mean())\n",
    "print(k_scores)"
   ]
  },
  {
   "cell_type": "markdown",
   "metadata": {
    "deletable": true,
    "editable": true
   },
   "source": [
    "k_range = list(range(1, 31))\n",
    "k_scores = []\n",
    "for k in k_range:\n",
    "    clf = KNeighborsClassifier(n_neighbors=k)\n",
    "    clf.fit(train_pca, train_labels)\n",
    "    scores = cross_val_score(clf, train_pca, train_labels, cv=10, scoring='accuracy')\n",
    "    k_scores.append(scores.mean())\n",
    "print(k_scores)"
   ]
  }
 ],
 "metadata": {
  "kernelspec": {
   "display_name": "Python 2",
   "language": "python",
   "name": "python2"
  },
  "language_info": {
   "codemirror_mode": {
    "name": "ipython",
    "version": 2
   },
   "file_extension": ".py",
   "mimetype": "text/x-python",
   "name": "python",
   "nbconvert_exporter": "python",
   "pygments_lexer": "ipython2",
   "version": "2.7.12"
  }
 },
 "nbformat": 4,
 "nbformat_minor": 2
}
